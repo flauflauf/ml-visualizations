{
 "cells": [
  {
   "cell_type": "code",
   "execution_count": 1,
   "id": "535ac674dd4bc55d",
   "metadata": {
    "ExecuteTime": {
     "end_time": "2024-05-09T12:56:15.831633Z",
     "start_time": "2024-05-09T12:56:14.127495Z"
    },
    "collapsed": false
   },
   "outputs": [
    {
     "name": "stdout",
     "output_type": "stream",
     "text": [
      "Intel MKL WARNING: Support of Intel(R) Streaming SIMD Extensions 4.2 (Intel(R) SSE4.2) enabled only processors has been deprecated. Intel oneAPI Math Kernel Library 2025.0 will require Intel(R) Advanced Vector Extensions (Intel(R) AVX) instructions.\n",
      "Intel MKL WARNING: Support of Intel(R) Streaming SIMD Extensions 4.2 (Intel(R) SSE4.2) enabled only processors has been deprecated. Intel oneAPI Math Kernel Library 2025.0 will require Intel(R) Advanced Vector Extensions (Intel(R) AVX) instructions.\n"
     ]
    }
   ],
   "source": [
    "import numpy as np\n",
    "import matplotlib.pyplot as plt\n",
    "from ipywidgets import interactive, FloatSlider"
   ]
  },
  {
   "cell_type": "code",
   "execution_count": 2,
   "id": "4fc21824-baf7-4fd3-9c2c-85e8297bedc6",
   "metadata": {
    "ExecuteTime": {
     "end_time": "2024-05-09T12:56:19.695485Z",
     "start_time": "2024-05-09T12:56:19.479566Z"
    }
   },
   "outputs": [],
   "source": [
    "def gabor(x, y, theta, sigma, f, phi, gamma):\n",
    "    xp = x * np.cos(theta) + y * np.sin(theta)\n",
    "    yp = -x * np.sin(theta) + y * np.cos(theta)\n",
    "    envelope = np.exp(-(xp**2 + gamma**2 * yp**2) / (2 * sigma**2))\n",
    "    carrier = np.cos(2 * np.pi * f * xp + phi)\n",
    "    return envelope * carrier"
   ]
  },
  {
   "cell_type": "code",
   "execution_count": null,
   "id": "e335a26c-321a-47f7-8381-ed1e867aa37d",
   "metadata": {
    "ExecuteTime": {
     "end_time": "2024-05-09T12:56:19.695485Z",
     "start_time": "2024-05-09T12:56:19.479566Z"
    }
   },
   "outputs": [],
   "source": [
    "def plot_gabor(theta=0, sigma=1, f=0.5, phi=0, gamma=1):\n",
    "    x = np.linspace(-10, 10, 500)\n",
    "    y = np.linspace(-10, 10, 500)\n",
    "    X, Y = np.meshgrid(x, y)\n",
    "    G = gabor(X, Y, theta, sigma, f, phi, gamma)\n",
    "\n",
    "    plt.figure(figsize=(6,6))\n",
    "    plt.imshow(G, extent=(-10, 10, -10, 10))\n",
    "    plt.colorbar()\n",
    "    plt.show()"
   ]
  },
  {
   "cell_type": "code",
   "execution_count": null,
   "id": "eb14103b-2118-46b0-9978-791a15acb3f9",
   "metadata": {
    "ExecuteTime": {
     "end_time": "2024-05-09T12:56:19.695485Z",
     "start_time": "2024-05-09T12:56:19.479566Z"
    }
   },
   "outputs": [],
   "source": [
    "interactive_plot = interactive(plot_gabor,\n",
    "                               theta=FloatSlider(min=0, max=np.pi, step=np.pi/16, value=0),\n",
    "                               sigma=FloatSlider(min=0.1, max=10, step=0.1, value=1),\n",
    "                               f=FloatSlider(min=0.1, max=1, step=0.05, value=0.5),\n",
    "                               phi=FloatSlider(min=0, max=2*np.pi, step=np.pi/16, value=0),\n",
    "                               gamma=FloatSlider(min=0.1, max=10, step=0.1, value=1))\n",
    "interactive_plot"
   ]
  },
  {
   "cell_type": "code",
   "execution_count": null,
   "id": "47322e9a6f62e18b",
   "metadata": {
    "collapsed": false
   },
   "outputs": [],
   "source": []
  }
 ],
 "metadata": {
  "kernelspec": {
   "display_name": "Python 3 (ipykernel)",
   "language": "python",
   "name": "python3"
  },
  "language_info": {
   "codemirror_mode": {
    "name": "ipython",
    "version": 3
   },
   "file_extension": ".py",
   "mimetype": "text/x-python",
   "name": "python",
   "nbconvert_exporter": "python",
   "pygments_lexer": "ipython3",
   "version": "3.11.5"
  }
 },
 "nbformat": 4,
 "nbformat_minor": 5
}
