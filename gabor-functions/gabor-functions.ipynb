{
 "cells": [
  {
   "cell_type": "code",
   "execution_count": 1,
   "id": "535ac674dd4bc55d",
   "metadata": {
    "collapsed": false,
    "ExecuteTime": {
     "end_time": "2024-05-09T14:51:11.719309Z",
     "start_time": "2024-05-09T14:51:10.438504Z"
    }
   },
   "outputs": [
    {
     "name": "stdout",
     "output_type": "stream",
     "text": [
      "Intel MKL WARNING: Support of Intel(R) Streaming SIMD Extensions 4.2 (Intel(R) SSE4.2) enabled only processors has been deprecated. Intel oneAPI Math Kernel Library 2025.0 will require Intel(R) Advanced Vector Extensions (Intel(R) AVX) instructions.\n",
      "Intel MKL WARNING: Support of Intel(R) Streaming SIMD Extensions 4.2 (Intel(R) SSE4.2) enabled only processors has been deprecated. Intel oneAPI Math Kernel Library 2025.0 will require Intel(R) Advanced Vector Extensions (Intel(R) AVX) instructions.\n"
     ]
    }
   ],
   "source": [
    "import numpy as np\n",
    "import matplotlib.pyplot as plt\n",
    "from ipywidgets import interactive, FloatSlider, Checkbox"
   ]
  },
  {
   "cell_type": "code",
   "execution_count": 2,
   "id": "4fc21824-baf7-4fd3-9c2c-85e8297bedc6",
   "metadata": {
    "ExecuteTime": {
     "end_time": "2024-05-09T14:51:11.723600Z",
     "start_time": "2024-05-09T14:51:11.720599Z"
    }
   },
   "outputs": [],
   "source": [
    "def gabor(x, y, x0, y0, theta, sigma, f, phi, gamma):\n",
    "    xp = (x - x0) * np.cos(theta) + (y - y0) * np.sin(theta)\n",
    "    yp = -(x - x0) * np.sin(theta) + (y - y0) * np.cos(theta)\n",
    "    envelope = np.exp(-(xp**2 + gamma**2 * yp**2) / (2 * sigma**2))\n",
    "    carrier = np.cos(2 * np.pi * f * xp + phi)\n",
    "    return envelope * carrier"
   ]
  },
  {
   "cell_type": "code",
   "outputs": [],
   "source": [
    "def draw_sigma(x0, y0, sigma, theta):\n",
    "    # Drawing sigma as a vector\n",
    "    end_x = x0 + sigma * np.cos(theta)\n",
    "    end_y = y0 + sigma * np.sin(theta)\n",
    "    plt.arrow(x0, y0, end_x - x0, end_y - y0,\n",
    "              head_width=0.5, head_length=0.5, fc='red', ec='red', length_includes_head=True)\n",
    "    plt.text(end_x, end_y, r'$\\sigma$', fontsize=12, color='red')"
   ],
   "metadata": {
    "collapsed": false,
    "ExecuteTime": {
     "end_time": "2024-05-09T14:51:11.726960Z",
     "start_time": "2024-05-09T14:51:11.724597Z"
    }
   },
   "id": "1c9e3a1e5bba760",
   "execution_count": 3
  },
  {
   "cell_type": "code",
   "execution_count": 4,
   "id": "e335a26c-321a-47f7-8381-ed1e867aa37d",
   "metadata": {
    "ExecuteTime": {
     "end_time": "2024-05-09T14:51:11.730862Z",
     "start_time": "2024-05-09T14:51:11.728127Z"
    }
   },
   "outputs": [],
   "source": [
    "def plot_gabor(x0=0, y0=0, theta=0, sigma=1, f=0.5, phi=0, gamma=1, draw_parameters=False):\n",
    "    x = np.linspace(-10, 10, 500)\n",
    "    y = np.linspace(-10, 10, 500)\n",
    "    X, Y = np.meshgrid(x, y)\n",
    "    G = gabor(X, Y, x0, y0, theta, sigma, f, phi, gamma)\n",
    "\n",
    "    plt.figure(figsize=(6, 6))\n",
    "    plt.imshow(G, extent=(-10, 10, -10, 10), origin='lower')\n",
    "    plt.colorbar()\n",
    "\n",
    "    if draw_parameters:\n",
    "        draw_sigma(x0, y0, sigma, theta)\n",
    "\n",
    "    plt.show()"
   ]
  },
  {
   "cell_type": "code",
   "execution_count": 12,
   "id": "eb14103b-2118-46b0-9978-791a15acb3f9",
   "metadata": {
    "ExecuteTime": {
     "end_time": "2024-05-09T14:52:57.672077Z",
     "start_time": "2024-05-09T14:52:57.553987Z"
    }
   },
   "outputs": [
    {
     "data": {
      "text/plain": "interactive(children=(FloatSlider(value=0.0, description='$x_0$:', max=10.0, min=-10.0, step=0.5), FloatSlider…",
      "application/vnd.jupyter.widget-view+json": {
       "version_major": 2,
       "version_minor": 0,
       "model_id": "ca7c6634d4b645d28fd37a9ea122caeb"
      }
     },
     "execution_count": 12,
     "metadata": {},
     "output_type": "execute_result"
    }
   ],
   "source": [
    "interactive_plot = interactive(plot_gabor,\n",
    "                               x0=FloatSlider(min=-10, max=10, step=0.5, value=0, description='$x_0$:'),\n",
    "                               y0=FloatSlider(min=-10, max=10, step=0.5, value=0, description='$y_0$:'),\n",
    "                               theta=FloatSlider(min=0, max=np.pi, step=np.pi/16, value=0, description=r'$\\theta$ (Theta):'),\n",
    "                               sigma=FloatSlider(min=0.1, max=10, step=0.1, value=1, description=r'$\\sigma$ (Sigma):'),\n",
    "                               f=FloatSlider(min=0.1, max=1, step=0.05, value=0.5, description='$f$ (Freq.):'),\n",
    "                               phi=FloatSlider(min=0, max=2*np.pi, step=np.pi/16, value=0, description=r'$\\phi$ (Phi):'),\n",
    "                               gamma=FloatSlider(min=0.1, max=10, step=0.1, value=1, description=r'$\\gamma$ (Gamma):'),\n",
    "                               draw_parameters=Checkbox(value=False, description='Draw parameters'))\n",
    "interactive_plot"
   ]
  },
  {
   "cell_type": "code",
   "execution_count": 5,
   "id": "47322e9a6f62e18b",
   "metadata": {
    "collapsed": false,
    "ExecuteTime": {
     "end_time": "2024-05-09T14:51:11.878666Z",
     "start_time": "2024-05-09T14:51:11.877204Z"
    }
   },
   "outputs": [],
   "source": []
  }
 ],
 "metadata": {
  "kernelspec": {
   "display_name": "Python 3 (ipykernel)",
   "language": "python",
   "name": "python3"
  },
  "language_info": {
   "codemirror_mode": {
    "name": "ipython",
    "version": 3
   },
   "file_extension": ".py",
   "mimetype": "text/x-python",
   "name": "python",
   "nbconvert_exporter": "python",
   "pygments_lexer": "ipython3",
   "version": "3.11.5"
  }
 },
 "nbformat": 4,
 "nbformat_minor": 5
}
