{
 "cells": [
  {
   "cell_type": "code",
   "execution_count": 14,
   "id": "535ac674dd4bc55d",
   "metadata": {
    "collapsed": false,
    "ExecuteTime": {
     "end_time": "2024-05-09T14:36:36.227822Z",
     "start_time": "2024-05-09T14:36:36.221963Z"
    }
   },
   "outputs": [],
   "source": [
    "import numpy as np\n",
    "import matplotlib.pyplot as plt\n",
    "from ipywidgets import interactive, FloatSlider, Checkbox"
   ]
  },
  {
   "cell_type": "code",
   "execution_count": 15,
   "id": "4fc21824-baf7-4fd3-9c2c-85e8297bedc6",
   "metadata": {
    "ExecuteTime": {
     "end_time": "2024-05-09T14:36:36.326975Z",
     "start_time": "2024-05-09T14:36:36.324151Z"
    }
   },
   "outputs": [],
   "source": [
    "def gabor(x, y, theta, sigma, f, phi, gamma):\n",
    "    xp = x * np.cos(theta) + y * np.sin(theta)\n",
    "    yp = -x * np.sin(theta) + y * np.cos(theta)\n",
    "    envelope = np.exp(-(xp**2 + gamma**2 * yp**2) / (2 * sigma**2))\n",
    "    carrier = np.cos(2 * np.pi * f * xp + phi)\n",
    "    return envelope * carrier"
   ]
  },
  {
   "cell_type": "code",
   "outputs": [],
   "source": [
    "def draw_sigma(sigma, theta):\n",
    "    # Drawing sigma as a vector\n",
    "    center_x, center_y = 0, 0\n",
    "    end_x = center_x + sigma * np.cos(theta)\n",
    "    end_y = center_y + sigma * np.sin(theta)\n",
    "    plt.arrow(center_x, center_y, end_x - center_x, end_y - center_y,\n",
    "              head_width=0.5, head_length=0.5, fc='red', ec='red', length_includes_head=True)\n",
    "    plt.text(end_x, end_y, r'$\\sigma$', fontsize=12, color='red')"
   ],
   "metadata": {
    "collapsed": false,
    "ExecuteTime": {
     "end_time": "2024-05-09T14:36:36.481615Z",
     "start_time": "2024-05-09T14:36:36.478576Z"
    }
   },
   "id": "1c9e3a1e5bba760",
   "execution_count": 16
  },
  {
   "cell_type": "code",
   "execution_count": 17,
   "id": "e335a26c-321a-47f7-8381-ed1e867aa37d",
   "metadata": {
    "ExecuteTime": {
     "end_time": "2024-05-09T14:36:36.633097Z",
     "start_time": "2024-05-09T14:36:36.629678Z"
    }
   },
   "outputs": [],
   "source": [
    "def plot_gabor(theta=0, sigma=1, f=0.5, phi=0, gamma=1, draw_parameters=False):\n",
    "    x = np.linspace(-10, 10, 500)\n",
    "    y = np.linspace(-10, 10, 500)\n",
    "    X, Y = np.meshgrid(x, y)\n",
    "    G = gabor(X, Y, theta, sigma, f, phi, gamma)\n",
    "\n",
    "    plt.figure(figsize=(6, 6))\n",
    "    plt.imshow(G, extent=(-10, 10, -10, 10), origin='lower')\n",
    "    plt.colorbar()\n",
    "\n",
    "    if draw_parameters:\n",
    "        draw_sigma(sigma, theta)\n",
    "\n",
    "    plt.show()"
   ]
  },
  {
   "cell_type": "code",
   "execution_count": 18,
   "id": "eb14103b-2118-46b0-9978-791a15acb3f9",
   "metadata": {
    "ExecuteTime": {
     "end_time": "2024-05-09T14:36:37.113548Z",
     "start_time": "2024-05-09T14:36:37.003266Z"
    }
   },
   "outputs": [
    {
     "data": {
      "text/plain": "interactive(children=(FloatSlider(value=0.0, description='$\\\\theta$ (Theta):', max=3.141592653589793, step=0.1…",
      "application/vnd.jupyter.widget-view+json": {
       "version_major": 2,
       "version_minor": 0,
       "model_id": "90f96d2667c140d09e60df4777d0e7f3"
      }
     },
     "execution_count": 18,
     "metadata": {},
     "output_type": "execute_result"
    }
   ],
   "source": [
    "interactive_plot = interactive(plot_gabor,\n",
    "                               theta=FloatSlider(min=0, max=np.pi, step=np.pi/16, value=0, description=r'$\\theta$ (Theta):'),\n",
    "                               sigma=FloatSlider(min=0.1, max=10, step=0.1, value=1, description=r'$\\sigma$ (Sigma):'),\n",
    "                               f=FloatSlider(min=0.1, max=1, step=0.05, value=0.5, description='f (Freq.):'),\n",
    "                               phi=FloatSlider(min=0, max=2*np.pi, step=np.pi/16, value=0, description=r'$\\phi$ (Phi):'),\n",
    "                               gamma=FloatSlider(min=0.1, max=10, step=0.1, value=1, description=r'$\\gamma$ (Gamma):'),\n",
    "                               draw_parameters=Checkbox(value=False, description='Draw parameters'))\n",
    "interactive_plot"
   ]
  },
  {
   "cell_type": "code",
   "execution_count": 13,
   "id": "47322e9a6f62e18b",
   "metadata": {
    "collapsed": false,
    "ExecuteTime": {
     "end_time": "2024-05-09T14:36:18.672850Z",
     "start_time": "2024-05-09T14:36:18.671414Z"
    }
   },
   "outputs": [],
   "source": []
  }
 ],
 "metadata": {
  "kernelspec": {
   "display_name": "Python 3 (ipykernel)",
   "language": "python",
   "name": "python3"
  },
  "language_info": {
   "codemirror_mode": {
    "name": "ipython",
    "version": 3
   },
   "file_extension": ".py",
   "mimetype": "text/x-python",
   "name": "python",
   "nbconvert_exporter": "python",
   "pygments_lexer": "ipython3",
   "version": "3.11.5"
  }
 },
 "nbformat": 4,
 "nbformat_minor": 5
}
