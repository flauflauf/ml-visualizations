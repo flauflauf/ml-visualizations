{
 "cells": [
  {
   "cell_type": "code",
   "execution_count": 9,
   "id": "535ac674dd4bc55d",
   "metadata": {
    "collapsed": false,
    "ExecuteTime": {
     "end_time": "2024-05-09T13:37:21.357705Z",
     "start_time": "2024-05-09T13:37:21.355457Z"
    }
   },
   "outputs": [],
   "source": [
    "import numpy as np\n",
    "import matplotlib.pyplot as plt\n",
    "from ipywidgets import interactive, FloatSlider"
   ]
  },
  {
   "cell_type": "code",
   "execution_count": 10,
   "id": "4fc21824-baf7-4fd3-9c2c-85e8297bedc6",
   "metadata": {
    "ExecuteTime": {
     "end_time": "2024-05-09T13:37:21.368567Z",
     "start_time": "2024-05-09T13:37:21.365359Z"
    }
   },
   "outputs": [],
   "source": [
    "def gabor(x, y, theta, sigma, f, phi, gamma):\n",
    "    xp = x * np.cos(theta) + y * np.sin(theta)\n",
    "    yp = -x * np.sin(theta) + y * np.cos(theta)\n",
    "    envelope = np.exp(-(xp**2 + gamma**2 * yp**2) / (2 * sigma**2))\n",
    "    carrier = np.cos(2 * np.pi * f * xp + phi)\n",
    "    return envelope * carrier"
   ]
  },
  {
   "cell_type": "code",
   "execution_count": 41,
   "id": "e335a26c-321a-47f7-8381-ed1e867aa37d",
   "metadata": {
    "ExecuteTime": {
     "end_time": "2024-05-09T14:23:51.625506Z",
     "start_time": "2024-05-09T14:23:51.621952Z"
    }
   },
   "outputs": [],
   "source": [
    "def plot_gabor(theta=0, sigma=1, f=0.5, phi=0, gamma=1):\n",
    "    x = np.linspace(-10, 10, 500)\n",
    "    y = np.linspace(-10, 10, 500)\n",
    "    X, Y = np.meshgrid(x, y)\n",
    "    G = gabor(X, Y, theta, sigma, f, phi, gamma)\n",
    "\n",
    "    plt.figure(figsize=(6, 6))\n",
    "    plt.imshow(G, extent=(-10, 10, -10, 10), origin='lower')\n",
    "    plt.colorbar()\n",
    "\n",
    "    # Drawing sigma as a vector\n",
    "    center_x, center_y = 0, 0 \n",
    "    end_x = center_x + sigma * np.cos(theta)\n",
    "    end_y = center_y + sigma * np.sin(theta)\n",
    "\n",
    "    plt.arrow(center_x, center_y, end_x - center_x, end_y - center_y,\n",
    "              head_width=0.5, head_length=0.5, fc='red', ec='red', length_includes_head=True)\n",
    "    plt.text(end_x, end_y, r'$\\sigma$', fontsize=12, color='red')\n",
    "\n",
    "    plt.show()"
   ]
  },
  {
   "cell_type": "code",
   "execution_count": 42,
   "id": "eb14103b-2118-46b0-9978-791a15acb3f9",
   "metadata": {
    "ExecuteTime": {
     "end_time": "2024-05-09T14:23:52.047612Z",
     "start_time": "2024-05-09T14:23:51.920915Z"
    }
   },
   "outputs": [
    {
     "data": {
      "text/plain": "interactive(children=(FloatSlider(value=0.0, description='Theta:', max=3.141592653589793, step=0.1963495408493…",
      "application/vnd.jupyter.widget-view+json": {
       "version_major": 2,
       "version_minor": 0,
       "model_id": "2998133653734f7f88ce16e59521d74f"
      }
     },
     "execution_count": 42,
     "metadata": {},
     "output_type": "execute_result"
    }
   ],
   "source": [
    "interactive_plot = interactive(plot_gabor,\n",
    "                               theta=FloatSlider(min=0, max=np.pi, step=np.pi/16, value=0, description='Theta:'),\n",
    "                               sigma=FloatSlider(min=0.1, max=10, step=0.1, value=1, description='Sigma:'),\n",
    "                               f=FloatSlider(min=0.1, max=1, step=0.05, value=0.5, description='Frequency:'),\n",
    "                               phi=FloatSlider(min=0, max=2*np.pi, step=np.pi/16, value=0, description='Phi:'),\n",
    "                               gamma=FloatSlider(min=0.1, max=10, step=0.1, value=1, description='Gamma:'))\n",
    "interactive_plot"
   ]
  },
  {
   "cell_type": "code",
   "execution_count": 12,
   "id": "47322e9a6f62e18b",
   "metadata": {
    "collapsed": false,
    "ExecuteTime": {
     "end_time": "2024-05-09T13:37:21.506130Z",
     "start_time": "2024-05-09T13:37:21.504745Z"
    }
   },
   "outputs": [],
   "source": []
  }
 ],
 "metadata": {
  "kernelspec": {
   "display_name": "Python 3 (ipykernel)",
   "language": "python",
   "name": "python3"
  },
  "language_info": {
   "codemirror_mode": {
    "name": "ipython",
    "version": 3
   },
   "file_extension": ".py",
   "mimetype": "text/x-python",
   "name": "python",
   "nbconvert_exporter": "python",
   "pygments_lexer": "ipython3",
   "version": "3.11.5"
  }
 },
 "nbformat": 4,
 "nbformat_minor": 5
}
