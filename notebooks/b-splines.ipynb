{
 "cells": [
  {
   "cell_type": "code",
   "execution_count": 13,
   "id": "46c913f0f435f991",
   "metadata": {
    "ExecuteTime": {
     "end_time": "2024-05-25T15:58:20.654298Z",
     "start_time": "2024-05-25T15:58:20.296882Z"
    },
    "collapsed": false,
    "jupyter": {
     "outputs_hidden": false
    }
   },
   "outputs": [],
   "source": [
    "import numpy as np\n",
    "import matplotlib.pyplot as plt\n",
    "from ipywidgets import interact, IntSlider, FloatSlider, HBox, VBox, interactive_output, fixed\n",
    "import ipywidgets as widgets"
   ]
  },
  {
   "cell_type": "code",
   "execution_count": 2,
   "id": "ffa99650-3234-469b-a316-804b5e3ab5fa",
   "metadata": {
    "ExecuteTime": {
     "end_time": "2024-05-25T15:58:20.889838Z",
     "start_time": "2024-05-25T15:58:20.655653Z"
    }
   },
   "outputs": [],
   "source": [
    "def bspline_basis(t, k, i, x):\n",
    "    if k == 0:\n",
    "        return 1.0 if t[i] <= x < t[i+1] else 0.0\n",
    "    else:\n",
    "        coeff1 = (x - t[i]) / (t[i+k] - t[i]) if t[i+k] != t[i] else 0\n",
    "        coeff2 = (t[i+k+1] - x) / (t[i+k+1] - t[i+1]) if t[i+k+1] != t[i+1] else 0\n",
    "        return coeff1 * bspline_basis(t, k-1, i, x) + coeff2 * bspline_basis(t, k-1, i+1, x)"
   ]
  },
  {
   "cell_type": "code",
   "execution_count": 3,
   "id": "5386f0bb-e50c-4407-83bf-fe4760409944",
   "metadata": {
    "ExecuteTime": {
     "end_time": "2024-05-25T15:58:20.889838Z",
     "start_time": "2024-05-25T15:58:20.655653Z"
    }
   },
   "outputs": [
    {
     "data": {
      "application/vnd.jupyter.widget-view+json": {
       "model_id": "9b5ec25e057f4cffb577a3730d5134f8",
       "version_major": 2,
       "version_minor": 0
      },
      "text/plain": [
       "interactive(children=(IntSlider(value=5, description='n', max=10, min=1), IntSlider(value=2, description='k', …"
      ]
     },
     "metadata": {},
     "output_type": "display_data"
    },
    {
     "data": {
      "text/plain": [
       "<function __main__.plot_bspline_basis(n, k)>"
      ]
     },
     "execution_count": 3,
     "metadata": {},
     "output_type": "execute_result"
    }
   ],
   "source": [
    "def plot_bspline_basis(n, k):\n",
    "    t = np.linspace(0, 1, n + k + 1)  # Generate knot vector\n",
    "    x = np.linspace(0, 1, 1000)       # Points to evaluate the basis functions\n",
    "    plt.figure(figsize=(10, 6))\n",
    "    for i in range(n):\n",
    "        y = [bspline_basis(t, k, i, xi) for xi in x]\n",
    "        plt.plot(x, y, label=f'B_{i},{k}(x)')\n",
    "    plt.title(f'B-spline Basis Functions of order {k}')\n",
    "    plt.xlabel('x')\n",
    "    plt.ylabel('B(x)')\n",
    "    plt.legend()\n",
    "    plt.grid(True)\n",
    "    plt.show()\n",
    "\n",
    "interact(plot_bspline_basis, n=IntSlider(min=1, max=10, step=1, value=5), k=IntSlider(min=0, max=5, step=1, value=2))"
   ]
  },
  {
   "cell_type": "code",
   "execution_count": 4,
   "id": "5554bdf666ce76d6",
   "metadata": {
    "collapsed": false,
    "jupyter": {
     "outputs_hidden": false
    }
   },
   "outputs": [
    {
     "data": {
      "application/vnd.jupyter.widget-view+json": {
       "model_id": "54672fd539f44bbe86165a11ea10c1d8",
       "version_major": 2,
       "version_minor": 0
      },
      "text/plain": [
       "interactive(children=(IntSlider(value=5, description='n', max=10, min=1), IntSlider(value=2, description='k', …"
      ]
     },
     "metadata": {},
     "output_type": "display_data"
    },
    {
     "data": {
      "text/plain": [
       "<function __main__.plot_bspline_basis_extended(n, k)>"
      ]
     },
     "execution_count": 4,
     "metadata": {},
     "output_type": "execute_result"
    }
   ],
   "source": [
    "def plot_bspline_basis_extended(n, k):\n",
    "    t = np.concatenate(([0]*(k+1), np.linspace(0, 1, n - k + 1), [1]*(k+1)))  # Extended knot vector\n",
    "    x = np.linspace(0, 1, 1000)       # Points to evaluate the basis functions\n",
    "    plt.figure(figsize=(10, 6))\n",
    "    for i in range(n):\n",
    "        y = [bspline_basis(t, k, i, xi) for xi in x]\n",
    "        plt.plot(x, y, label=f'B_{i},{k}(x)')\n",
    "    plt.title(f'Extended B-spline Basis Functions of order {k}')\n",
    "    plt.xlabel('x')\n",
    "    plt.ylabel('B(x)')\n",
    "    plt.legend()\n",
    "    plt.grid(True)\n",
    "    plt.show()\n",
    "\n",
    "interact(plot_bspline_basis_extended, n=IntSlider(min=1, max=10, step=1, value=5), k=IntSlider(min=0, max=5, step=1, value=2))"
   ]
  },
  {
   "cell_type": "code",
   "execution_count": 5,
   "id": "878ec9ff-1755-4cdd-bd94-bf4296a0a0fc",
   "metadata": {},
   "outputs": [
    {
     "data": {
      "application/vnd.jupyter.widget-view+json": {
       "model_id": "7180800a7e9d4d6cb9167b3cbb99fe8e",
       "version_major": 2,
       "version_minor": 0
      },
      "text/plain": [
       "interactive(children=(IntSlider(value=3, description='G', max=10, min=1), IntSlider(value=2, description='k', …"
      ]
     },
     "metadata": {},
     "output_type": "display_data"
    }
   ],
   "source": [
    "from kan.spline import B_batch\n",
    "import torch\n",
    "\n",
    "def plot_bspline(G, k):\n",
    "    grid = torch.linspace(-1, 1, steps=G + 1)[None, :]\n",
    "    x = torch.linspace(-1, 1, steps=1001)[None, :]\n",
    "    basis = B_batch(x, grid, k=k)\n",
    "    \n",
    "    plt.figure(figsize=(10, 6))\n",
    "    for i in range(G + k):\n",
    "        plt.plot(x[0].detach().numpy(), basis[0, i, :].detach().numpy())\n",
    "        \n",
    "    plt.legend(['B_{}(x)'.format(i) for i in np.arange(G + k)])\n",
    "    plt.xlabel('x')\n",
    "    plt.xticks(grid[0].detach().numpy())\n",
    "    plt.ylabel('B_i(x)')\n",
    "    plt.title(f'B-spline basis functions with G={G}, k={k}')\n",
    "    plt.grid(True)\n",
    "    plt.show()\n",
    "\n",
    "interact(plot_bspline, G=IntSlider(min=1, max=10, step=1, value=3, description='G'), \n",
    "         k=IntSlider(min=0, max=5, step=1, value=2, description='k'));"
   ]
  },
  {
   "cell_type": "markdown",
   "id": "e7dace5c-7846-43cb-980a-2ba8e2eef580",
   "metadata": {},
   "source": [
    "# Combined B-Spline"
   ]
  },
  {
   "cell_type": "code",
   "execution_count": 14,
   "id": "7a3924c4-aed9-4b45-b441-88777cbb2ce3",
   "metadata": {},
   "outputs": [
    {
     "data": {
      "application/vnd.jupyter.widget-view+json": {
       "model_id": "f26f26bab2834f83be46be5876452c28",
       "version_major": 2,
       "version_minor": 0
      },
      "text/plain": [
       "VBox(children=(HBox(children=(Label(value='G:'), IntSlider(value=3, description='G', max=10, min=1))), HBox(ch…"
      ]
     },
     "metadata": {},
     "output_type": "display_data"
    },
    {
     "data": {
      "application/vnd.jupyter.widget-view+json": {
       "model_id": "40da5b1e7aed4de78899e2b12e812829",
       "version_major": 2,
       "version_minor": 0
      },
      "text/plain": [
       "Output()"
      ]
     },
     "metadata": {},
     "output_type": "display_data"
    }
   ],
   "source": [
    "def plot_combined_spline(G, k, **coeffs):\n",
    "    grid = torch.linspace(-1, 1, steps=G + 1)[None, :]\n",
    "    x = torch.linspace(-1, 1, steps=1001)[None, :]\n",
    "    basis = B_batch(x, grid, k=k)\n",
    "    \n",
    "    coeff_values = [coeffs[f'coeff_{i}'] for i in range(G + k)]\n",
    "    combined_spline = sum(coeff * basis[0, i, :] for i, coeff in enumerate(coeff_values))\n",
    "    \n",
    "    plt.figure(figsize=(10, 6))\n",
    "    for i in range(G + k):\n",
    "        plt.plot(x[0].detach().numpy(), basis[0, i, :].detach().numpy(), alpha=0.5)\n",
    "        \n",
    "    plt.plot(x[0].detach().numpy(), combined_spline.detach().numpy(), 'k', linewidth=2, label='Combined Spline')\n",
    "    plt.legend(['B_{}(x)'.format(i) for i in np.arange(G + k)] + ['Combined Spline'])\n",
    "    plt.xlabel('x')\n",
    "    plt.xticks(grid[0].detach().numpy())\n",
    "    plt.ylabel('B_i(x)')\n",
    "    plt.title(f'B-spline basis functions and combined spline with G={G}, k={k}')\n",
    "    plt.grid(True)\n",
    "    plt.show()\n",
    "\n",
    "def create_interactive_plot(G, k):\n",
    "    num_basis = G.value + k.value\n",
    "    coeffs = [FloatSlider(min=-2.0, max=2.0, step=0.1, value=1.0, description=f'Coeff {i}') for i in range(num_basis)]\n",
    "    \n",
    "    ui = VBox([HBox([widgets.Label(value=\"G:\"), G]),\n",
    "               HBox([widgets.Label(value=\"k:\"), k])] +\n",
    "              [HBox([widgets.Label(value=f\"Coeff {i}:\"), coeff]) for i, coeff in enumerate(coeffs)])\n",
    "    \n",
    "    coeff_dict = {f'coeff_{i}': coeff for i, coeff in enumerate(coeffs)}\n",
    "    out = interactive_output(plot_combined_spline, {'G': G, 'k': k, **coeff_dict})\n",
    "    \n",
    "    display(ui, out)\n",
    "    \n",
    "G_slider = IntSlider(min=1, max=10, step=1, value=3, description='G')\n",
    "k_slider = IntSlider(min=0, max=5, step=1, value=2, description='k')\n",
    "\n",
    "create_interactive_plot(G_slider, k_slider)"
   ]
  }
 ],
 "metadata": {
  "kernelspec": {
   "display_name": "Python 3 (ipykernel)",
   "language": "python",
   "name": "python3"
  },
  "language_info": {
   "codemirror_mode": {
    "name": "ipython",
    "version": 3
   },
   "file_extension": ".py",
   "mimetype": "text/x-python",
   "name": "python",
   "nbconvert_exporter": "python",
   "pygments_lexer": "ipython3",
   "version": "3.11.9"
  }
 },
 "nbformat": 4,
 "nbformat_minor": 5
}
