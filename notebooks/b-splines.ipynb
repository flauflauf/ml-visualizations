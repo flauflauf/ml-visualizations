{
 "cells": [
  {
   "cell_type": "code",
   "execution_count": 1,
   "id": "46c913f0f435f991",
   "metadata": {
    "ExecuteTime": {
     "end_time": "2024-05-26T20:05:20.404296Z",
     "start_time": "2024-05-26T20:05:19.930375Z"
    },
    "collapsed": false,
    "jupyter": {
     "outputs_hidden": false
    }
   },
   "outputs": [],
   "source": [
    "import numpy as np\n",
    "import matplotlib.pyplot as plt\n",
    "from ipywidgets import interact, IntSlider, FloatSlider, VBox, interactive"
   ]
  },
  {
   "cell_type": "markdown",
   "id": "d05d9c472b341502",
   "metadata": {
    "collapsed": false,
    "jupyter": {
     "outputs_hidden": false
    }
   },
   "source": [
    "# B-Spline Basis Functions\n",
    "\n",
    "The first visualization shows the B-spline basis functions of a given order $k$. These basis functions form the building blocks of B-spline curves. By adjusting the sliders, you can change the number of basis functions $n$ and their order $k$. The knot vector is automatically generated based on the number of basis functions and their order."
   ]
  },
  {
   "cell_type": "code",
   "execution_count": 2,
   "id": "ffa99650-3234-469b-a316-804b5e3ab5fa",
   "metadata": {
    "ExecuteTime": {
     "end_time": "2024-05-26T20:05:20.408623Z",
     "start_time": "2024-05-26T20:05:20.405492Z"
    }
   },
   "outputs": [],
   "source": [
    "def bspline_basis(t, k, i, x):\n",
    "    if k == 0:\n",
    "        return 1.0 if t[i] <= x < t[i+1] else 0.0\n",
    "    else:\n",
    "        coeff1 = (x - t[i]) / (t[i+k] - t[i]) if t[i+k] != t[i] else 0\n",
    "        coeff2 = (t[i+k+1] - x) / (t[i+k+1] - t[i+1]) if t[i+k+1] != t[i+1] else 0\n",
    "        return coeff1 * bspline_basis(t, k-1, i, x) + coeff2 * bspline_basis(t, k-1, i+1, x)"
   ]
  },
  {
   "cell_type": "code",
   "execution_count": 3,
   "id": "5386f0bb-e50c-4407-83bf-fe4760409944",
   "metadata": {
    "ExecuteTime": {
     "end_time": "2024-05-26T20:05:20.561191Z",
     "start_time": "2024-05-26T20:05:20.409564Z"
    }
   },
   "outputs": [
    {
     "data": {
      "application/vnd.jupyter.widget-view+json": {
       "model_id": "72f42577fce64d629109d2ba2100cdab",
       "version_major": 2,
       "version_minor": 0
      },
      "text/plain": [
       "interactive(children=(IntSlider(value=5, description='n', max=10, min=1), IntSlider(value=2, description='k', …"
      ]
     },
     "metadata": {},
     "output_type": "display_data"
    },
    {
     "data": {
      "text/plain": [
       "<function __main__.plot_bspline_basis(n, k)>"
      ]
     },
     "execution_count": 3,
     "metadata": {},
     "output_type": "execute_result"
    }
   ],
   "source": [
    "def plot_bspline_basis(n, k):\n",
    "    t = np.linspace(0, 1, n + k + 1)  # Generate knot vector\n",
    "    x = np.linspace(0, 1, 1000)       # Points to evaluate the basis functions\n",
    "    plt.figure(figsize=(10, 6))\n",
    "    for i in range(n):\n",
    "        y = [bspline_basis(t, k, i, xi) for xi in x]\n",
    "        plt.plot(x, y, label=f'B_{i},{k}(x)')\n",
    "    plt.title(f'B-spline Basis Functions of order {k}')\n",
    "    plt.xlabel('x')\n",
    "    plt.ylabel('B(x)')\n",
    "    plt.legend()\n",
    "    plt.grid(True)\n",
    "    plt.show()\n",
    "\n",
    "interact(plot_bspline_basis, n=IntSlider(min=1, max=10, step=1, value=5), k=IntSlider(min=0, max=5, step=1, value=2))"
   ]
  },
  {
   "cell_type": "markdown",
   "id": "42b55af9cc3f7de7",
   "metadata": {
    "collapsed": false,
    "jupyter": {
     "outputs_hidden": false
    }
   },
   "source": [
    "# B-Spline Basis Functions used in KANs\n",
    "\n",
    "The second visualization displays the B-spline basis functions with specified grid intervals $G$ and spline order $k$, by utilizing the `B_batch` function provided by the [pykan](https://github.com/KindXiaoming/pykan) package.\n",
    "This visualization allows you to see how the basis functions are structured in a KAN grid, spanning the whole domain."
   ]
  },
  {
   "cell_type": "code",
   "execution_count": 4,
   "id": "878ec9ff-1755-4cdd-bd94-bf4296a0a0fc",
   "metadata": {
    "ExecuteTime": {
     "end_time": "2024-05-26T20:05:23.093373Z",
     "start_time": "2024-05-26T20:05:20.562784Z"
    }
   },
   "outputs": [
    {
     "data": {
      "application/vnd.jupyter.widget-view+json": {
       "model_id": "02eb1b699545482cb64d605df17b4ddd",
       "version_major": 2,
       "version_minor": 0
      },
      "text/plain": [
       "interactive(children=(IntSlider(value=3, description='G', max=10, min=1), IntSlider(value=2, description='k', …"
      ]
     },
     "metadata": {},
     "output_type": "display_data"
    }
   ],
   "source": [
    "from kan.spline import B_batch\n",
    "import torch\n",
    "\n",
    "def plot_bspline(G, k):\n",
    "    grid = torch.linspace(-1, 1, steps=G + 1)[None, :]\n",
    "    x = torch.linspace(-1, 1, steps=1001)[None, :]\n",
    "    basis = B_batch(x, grid, k=k)\n",
    "    \n",
    "    plt.figure(figsize=(10, 6))\n",
    "    for i in range(G + k):\n",
    "        plt.plot(x[0].detach().numpy(), basis[0, i, :].detach().numpy())\n",
    "        \n",
    "    plt.legend(['B_{}(x)'.format(i) for i in np.arange(G + k)])\n",
    "    plt.xlabel('x')\n",
    "    plt.xticks(grid[0].detach().numpy())\n",
    "    plt.ylabel('B_i(x)')\n",
    "    plt.title(f'B-spline basis functions with G={G}, k={k}')\n",
    "    plt.grid(True)\n",
    "    plt.show()\n",
    "\n",
    "interact(plot_bspline, G=IntSlider(min=1, max=10, step=1, value=3, description='G'), \n",
    "         k=IntSlider(min=0, max=5, step=1, value=2, description='k'));"
   ]
  },
  {
   "cell_type": "markdown",
   "id": "e7dace5c-7846-43cb-980a-2ba8e2eef580",
   "metadata": {},
   "source": [
    "# Combined B-Spline\n",
    "\n",
    "The third visualization shows the combined B-spline formed by the weighted sum of the basis functions. You can interactively adjust the coefficients of each basis function to see how they influence the combined B-spline. The basis functions are plotted along with the combined B-spline, scaled by their respective coefficients."
   ]
  },
  {
   "cell_type": "code",
   "execution_count": 8,
   "id": "7a3924c4-aed9-4b45-b441-88777cbb2ce3",
   "metadata": {
    "ExecuteTime": {
     "end_time": "2024-05-26T20:05:23.217020Z",
     "start_time": "2024-05-26T20:05:23.094226Z"
    }
   },
   "outputs": [
    {
     "data": {
      "application/vnd.jupyter.widget-view+json": {
       "model_id": "82514d8bc9034bd580d7176ed90a4aec",
       "version_major": 2,
       "version_minor": 0
      },
      "text/plain": [
       "VBox()"
      ]
     },
     "metadata": {},
     "output_type": "display_data"
    }
   ],
   "source": [
    "def plot_combined_spline(G, k, **coeffs):\n",
    "    grid = torch.linspace(-1, 1, steps=G + 1)[None, :]\n",
    "    x = torch.linspace(-1, 1, steps=1001)[None, :]\n",
    "    basis = B_batch(x, grid, k=k)\n",
    "\n",
    "    coeff_values = [coeffs[f'Coeff {i}'] for i in range(G + k)]\n",
    "    scaled_basis = [coeff * basis[0, i, :] for i, coeff in enumerate(coeff_values)]\n",
    "    combined_spline = sum(scaled_basis)\n",
    "\n",
    "    plt.figure(figsize=(10, 6))\n",
    "    for i in range(G + k):\n",
    "        plt.plot(x[0].detach().numpy(), scaled_basis[i].detach().numpy(), alpha=0.3)\n",
    "        \n",
    "    plt.plot(x[0].detach().numpy(), combined_spline.detach().numpy(), 'k', linewidth=3, label='Combined Spline')\n",
    "    plt.legend([f'{coeff_values[i]:.1f} * B_{i}(x)' for i in np.arange(G + k)] + ['Combined Spline'])\n",
    "    plt.xlabel('x')\n",
    "    plt.xticks(grid[0].detach().numpy())\n",
    "    plt.title(f'B-spline basis functions and combined spline with G={G}, k={k}')\n",
    "    plt.grid(True)\n",
    "    plt.show()\n",
    "\n",
    "def update_coeffs_sliders(change):\n",
    "    display_interactive_plot()\n",
    "\n",
    "def display_interactive_plot():\n",
    "    G = G_slider.value\n",
    "    k = k_slider.value\n",
    "    num_basis = G + k\n",
    "\n",
    "    coeffs = {f'Coeff {i}': FloatSlider(min=-2.0, max=2.0, step=0.1, value=1.0) for i in range(num_basis)}\n",
    "\n",
    "    out = interactive(plot_combined_spline, G=G_slider, k=k_slider, **coeffs)    \n",
    "    container.children = [out]\n",
    "\n",
    "container = VBox()\n",
    "\n",
    "G_slider = IntSlider(min=1, max=10, step=1, value=3, description='G')\n",
    "k_slider = IntSlider(min=0, max=5, step=1, value=2, description='k')\n",
    "\n",
    "G_slider.observe(update_coeffs_sliders, names='value')\n",
    "k_slider.observe(update_coeffs_sliders, names='value')\n",
    "\n",
    "display(container)\n",
    "display_interactive_plot()"
   ]
  },
  {
   "cell_type": "code",
   "execution_count": null,
   "id": "589c463b-e668-4c56-ad8e-f6640b1b1d17",
   "metadata": {
    "ExecuteTime": {
     "end_time": "2024-05-26T20:05:23.219711Z",
     "start_time": "2024-05-26T20:05:23.218008Z"
    }
   },
   "outputs": [],
   "source": []
  }
 ],
 "metadata": {
  "kernelspec": {
   "display_name": "Python 3 (ipykernel)",
   "language": "python",
   "name": "python3"
  },
  "language_info": {
   "codemirror_mode": {
    "name": "ipython",
    "version": 3
   },
   "file_extension": ".py",
   "mimetype": "text/x-python",
   "name": "python",
   "nbconvert_exporter": "python",
   "pygments_lexer": "ipython3",
   "version": "3.11.9"
  }
 },
 "nbformat": 4,
 "nbformat_minor": 5
}
