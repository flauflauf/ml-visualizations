{
 "cells": [
  {
   "cell_type": "code",
   "execution_count": 1,
   "id": "46c913f0f435f991",
   "metadata": {
    "ExecuteTime": {
     "end_time": "2024-05-25T15:58:20.654298Z",
     "start_time": "2024-05-25T15:58:20.296882Z"
    },
    "collapsed": false
   },
   "outputs": [],
   "source": [
    "import numpy as np\n",
    "import matplotlib.pyplot as plt\n",
    "from ipywidgets import interactive, IntSlider"
   ]
  },
  {
   "cell_type": "code",
   "execution_count": 5,
   "id": "initial_id",
   "metadata": {
    "ExecuteTime": {
     "end_time": "2024-05-25T15:58:20.889838Z",
     "start_time": "2024-05-25T15:58:20.655653Z"
    }
   },
   "outputs": [
    {
     "data": {
      "application/vnd.jupyter.widget-view+json": {
       "model_id": "f944c7b1ff354356aea948e8248975dc",
       "version_major": 2,
       "version_minor": 0
      },
      "text/plain": [
       "interactive(children=(IntSlider(value=5, description='n', max=10, min=1), IntSlider(value=2, description='k', …"
      ]
     },
     "metadata": {},
     "output_type": "display_data"
    }
   ],
   "source": [
    "def bspline_basis(t, k, i, x):\n",
    "    if k == 0:\n",
    "        return 1.0 if t[i] <= x < t[i+1] else 0.0\n",
    "    else:\n",
    "        coeff1 = (x - t[i]) / (t[i+k] - t[i]) if t[i+k] != t[i] else 0\n",
    "        coeff2 = (t[i+k+1] - x) / (t[i+k+1] - t[i+1]) if t[i+k+1] != t[i+1] else 0\n",
    "        return coeff1 * bspline_basis(t, k-1, i, x) + coeff2 * bspline_basis(t, k-1, i+1, x)\n",
    "\n",
    "def plot_bspline_basis(n, k):\n",
    "    t = np.linspace(0, 1, n + k + 1)  # Generate knot vector\n",
    "    x = np.linspace(0, 1, 1000)       # Points to evaluate the basis functions\n",
    "    plt.figure(figsize=(10, 6))\n",
    "    for i in range(n):\n",
    "        y = [bspline_basis(t, k, i, xi) for xi in x]\n",
    "        plt.plot(x, y, label=f'B_{i},{k}(x)')\n",
    "    plt.title(f'B-spline Basis Functions of order {k}')\n",
    "    plt.xlabel('x')\n",
    "    plt.ylabel('B(x)')\n",
    "    plt.legend()\n",
    "    plt.grid(True)\n",
    "    plt.show()\n",
    "\n",
    "# Interactive plot\n",
    "widget = interactive(plot_bspline_basis, n=IntSlider(min=1, max=10, step=1, value=5), k=IntSlider(min=0, max=5, step=1, value=2))\n",
    "display(widget)\n"
   ]
  },
  {
   "cell_type": "code",
   "execution_count": null,
   "id": "5554bdf666ce76d6",
   "metadata": {
    "collapsed": false
   },
   "outputs": [],
   "source": []
  }
 ],
 "metadata": {
  "kernelspec": {
   "display_name": "Python 3 (ipykernel)",
   "language": "python",
   "name": "python3"
  },
  "language_info": {
   "codemirror_mode": {
    "name": "ipython",
    "version": 3
   },
   "file_extension": ".py",
   "mimetype": "text/x-python",
   "name": "python",
   "nbconvert_exporter": "python",
   "pygments_lexer": "ipython3",
   "version": "3.11.9"
  }
 },
 "nbformat": 4,
 "nbformat_minor": 5
}
