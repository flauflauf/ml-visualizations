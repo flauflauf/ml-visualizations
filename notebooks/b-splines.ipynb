{
 "cells": [
  {
   "cell_type": "code",
   "execution_count": 1,
   "id": "46c913f0f435f991",
   "metadata": {
    "ExecuteTime": {
     "end_time": "2024-05-26T19:43:49.822248Z",
     "start_time": "2024-05-26T19:43:49.819308Z"
    },
    "collapsed": false,
    "jupyter": {
     "outputs_hidden": false
    }
   },
   "outputs": [],
   "source": [
    "import numpy as np\n",
    "import matplotlib.pyplot as plt\n",
    "from ipywidgets import interact, IntSlider, FloatSlider, VBox, interactive"
   ]
  },
  {
   "cell_type": "code",
   "execution_count": 2,
   "id": "ffa99650-3234-469b-a316-804b5e3ab5fa",
   "metadata": {
    "ExecuteTime": {
     "end_time": "2024-05-26T19:43:49.834425Z",
     "start_time": "2024-05-26T19:43:49.831036Z"
    }
   },
   "outputs": [],
   "source": [
    "def bspline_basis(t, k, i, x):\n",
    "    if k == 0:\n",
    "        return 1.0 if t[i] <= x < t[i+1] else 0.0\n",
    "    else:\n",
    "        coeff1 = (x - t[i]) / (t[i+k] - t[i]) if t[i+k] != t[i] else 0\n",
    "        coeff2 = (t[i+k+1] - x) / (t[i+k+1] - t[i+1]) if t[i+k+1] != t[i+1] else 0\n",
    "        return coeff1 * bspline_basis(t, k-1, i, x) + coeff2 * bspline_basis(t, k-1, i+1, x)"
   ]
  },
  {
   "cell_type": "code",
   "execution_count": 3,
   "id": "5386f0bb-e50c-4407-83bf-fe4760409944",
   "metadata": {
    "ExecuteTime": {
     "end_time": "2024-05-26T19:43:49.972905Z",
     "start_time": "2024-05-26T19:43:49.843006Z"
    }
   },
   "outputs": [
    {
     "data": {
      "application/vnd.jupyter.widget-view+json": {
       "model_id": "d036abfe1dda49db952187ddeed6bc5d",
       "version_major": 2,
       "version_minor": 0
      },
      "text/plain": [
       "interactive(children=(IntSlider(value=5, description='n', max=10, min=1), IntSlider(value=2, description='k', …"
      ]
     },
     "metadata": {},
     "output_type": "display_data"
    },
    {
     "data": {
      "text/plain": [
       "<function __main__.plot_bspline_basis(n, k)>"
      ]
     },
     "execution_count": 3,
     "metadata": {},
     "output_type": "execute_result"
    }
   ],
   "source": [
    "def plot_bspline_basis(n, k):\n",
    "    t = np.linspace(0, 1, n + k + 1)  # Generate knot vector\n",
    "    x = np.linspace(0, 1, 1000)       # Points to evaluate the basis functions\n",
    "    plt.figure(figsize=(10, 6))\n",
    "    for i in range(n):\n",
    "        y = [bspline_basis(t, k, i, xi) for xi in x]\n",
    "        plt.plot(x, y, label=f'B_{i},{k}(x)')\n",
    "    plt.title(f'B-spline Basis Functions of order {k}')\n",
    "    plt.xlabel('x')\n",
    "    plt.ylabel('B(x)')\n",
    "    plt.legend()\n",
    "    plt.grid(True)\n",
    "    plt.show()\n",
    "\n",
    "interact(plot_bspline_basis, n=IntSlider(min=1, max=10, step=1, value=5), k=IntSlider(min=0, max=5, step=1, value=2))"
   ]
  },
  {
   "cell_type": "code",
   "execution_count": 4,
   "id": "5554bdf666ce76d6",
   "metadata": {
    "ExecuteTime": {
     "end_time": "2024-05-26T19:43:50.096287Z",
     "start_time": "2024-05-26T19:43:49.974012Z"
    },
    "collapsed": false,
    "jupyter": {
     "outputs_hidden": false
    }
   },
   "outputs": [
    {
     "data": {
      "application/vnd.jupyter.widget-view+json": {
       "model_id": "f7eebb9a54594f09a75650a1f1113133",
       "version_major": 2,
       "version_minor": 0
      },
      "text/plain": [
       "interactive(children=(IntSlider(value=5, description='n', max=10, min=1), IntSlider(value=2, description='k', …"
      ]
     },
     "metadata": {},
     "output_type": "display_data"
    },
    {
     "data": {
      "text/plain": [
       "<function __main__.plot_bspline_basis_extended(n, k)>"
      ]
     },
     "execution_count": 4,
     "metadata": {},
     "output_type": "execute_result"
    }
   ],
   "source": [
    "def plot_bspline_basis_extended(n, k):\n",
    "    t = np.concatenate(([0]*(k+1), np.linspace(0, 1, n - k + 1), [1]*(k+1)))  # Extended knot vector\n",
    "    x = np.linspace(0, 1, 1000)       # Points to evaluate the basis functions\n",
    "    plt.figure(figsize=(10, 6))\n",
    "    for i in range(n):\n",
    "        y = [bspline_basis(t, k, i, xi) for xi in x]\n",
    "        plt.plot(x, y, label=f'B_{i},{k}(x)')\n",
    "    plt.title(f'Extended B-spline Basis Functions of order {k}')\n",
    "    plt.xlabel('x')\n",
    "    plt.ylabel('B(x)')\n",
    "    plt.legend()\n",
    "    plt.grid(True)\n",
    "    plt.show()\n",
    "\n",
    "interact(plot_bspline_basis_extended, n=IntSlider(min=1, max=10, step=1, value=5), k=IntSlider(min=0, max=5, step=1, value=2))"
   ]
  },
  {
   "cell_type": "code",
   "execution_count": 5,
   "id": "878ec9ff-1755-4cdd-bd94-bf4296a0a0fc",
   "metadata": {
    "ExecuteTime": {
     "end_time": "2024-05-26T19:43:53.009703Z",
     "start_time": "2024-05-26T19:43:50.097500Z"
    }
   },
   "outputs": [
    {
     "data": {
      "application/vnd.jupyter.widget-view+json": {
       "model_id": "c3b8827d68214a6c8882b11f1b68b6a0",
       "version_major": 2,
       "version_minor": 0
      },
      "text/plain": [
       "interactive(children=(IntSlider(value=3, description='G', max=10, min=1), IntSlider(value=2, description='k', …"
      ]
     },
     "metadata": {},
     "output_type": "display_data"
    }
   ],
   "source": [
    "from kan.spline import B_batch\n",
    "import torch\n",
    "\n",
    "def plot_bspline(G, k):\n",
    "    grid = torch.linspace(-1, 1, steps=G + 1)[None, :]\n",
    "    x = torch.linspace(-1, 1, steps=1001)[None, :]\n",
    "    basis = B_batch(x, grid, k=k)\n",
    "    \n",
    "    plt.figure(figsize=(10, 6))\n",
    "    for i in range(G + k):\n",
    "        plt.plot(x[0].detach().numpy(), basis[0, i, :].detach().numpy())\n",
    "        \n",
    "    plt.legend(['B_{}(x)'.format(i) for i in np.arange(G + k)])\n",
    "    plt.xlabel('x')\n",
    "    plt.xticks(grid[0].detach().numpy())\n",
    "    plt.ylabel('B_i(x)')\n",
    "    plt.title(f'B-spline basis functions with G={G}, k={k}')\n",
    "    plt.grid(True)\n",
    "    plt.show()\n",
    "\n",
    "interact(plot_bspline, G=IntSlider(min=1, max=10, step=1, value=3, description='G'), \n",
    "         k=IntSlider(min=0, max=5, step=1, value=2, description='k'));"
   ]
  },
  {
   "cell_type": "markdown",
   "id": "e7dace5c-7846-43cb-980a-2ba8e2eef580",
   "metadata": {},
   "source": [
    "# Combined B-Spline"
   ]
  },
  {
   "cell_type": "code",
   "execution_count": 6,
   "id": "7a3924c4-aed9-4b45-b441-88777cbb2ce3",
   "metadata": {
    "ExecuteTime": {
     "end_time": "2024-05-26T19:43:53.135627Z",
     "start_time": "2024-05-26T19:43:53.011327Z"
    }
   },
   "outputs": [
    {
     "data": {
      "application/vnd.jupyter.widget-view+json": {
       "model_id": "68d53d59eff8454f9b668bdca74f0fef",
       "version_major": 2,
       "version_minor": 0
      },
      "text/plain": [
       "VBox()"
      ]
     },
     "metadata": {},
     "output_type": "display_data"
    }
   ],
   "source": [
    "def plot_combined_spline(G, k, **coeffs):\n",
    "    grid = torch.linspace(-1, 1, steps=G + 1)[None, :]\n",
    "    x = torch.linspace(-1, 1, steps=1001)[None, :]\n",
    "    basis = B_batch(x, grid, k=k)\n",
    "\n",
    "    coeff_values = [coeffs[f'coeff_{i}'] for i in range(G + k)]\n",
    "    scaled_basis = list(coeff * basis[0, i, :] for i, coeff in enumerate(coeff_values))\n",
    "    combined_spline = sum(scaled_basis)\n",
    "\n",
    "    plt.figure(figsize=(10, 6))\n",
    "    for i in range(G + k):\n",
    "        plt.plot(x[0].detach().numpy(), scaled_basis[i].detach().numpy(), alpha=0.5)\n",
    "        \n",
    "    plt.plot(x[0].detach().numpy(), combined_spline.detach().numpy(), 'k', linewidth=2, label='Combined Spline')\n",
    "    plt.legend(['B_{}(x)'.format(i) for i in np.arange(G + k)] + ['Combined Spline'])\n",
    "    plt.xlabel('x')\n",
    "    plt.xticks(grid[0].detach().numpy())\n",
    "    plt.ylabel('B_i(x)')\n",
    "    plt.title(f'B-spline basis functions and combined spline with G={G}, k={k}')\n",
    "    plt.grid(True)\n",
    "    plt.show()\n",
    "\n",
    "def update_coeffs_sliders(change):\n",
    "    display_interactive_plot(G_slider, k_slider)\n",
    "\n",
    "def display_interactive_plot(G_slider, k_slider):\n",
    "    G = G_slider.value\n",
    "    k = k_slider.value\n",
    "    num_basis = G + k\n",
    "\n",
    "    coeffs = [FloatSlider(min=-2.0, max=2.0, step=0.1, value=1.0, description=f'Coeff {i}') for i in range(num_basis)]    \n",
    "    coeff_dict = {f'coeff_{i}': coeff for i, coeff in enumerate(coeffs)}\n",
    "\n",
    "    out = interactive(plot_combined_spline, G=G_slider, k=k_slider, **coeff_dict)    \n",
    "    container.children = [out]\n",
    "\n",
    "# Create the container widget\n",
    "container = VBox()\n",
    "\n",
    "G_slider = IntSlider(min=1, max=10, step=1, value=3, description='G')\n",
    "k_slider = IntSlider(min=0, max=5, step=1, value=2, description='k')\n",
    "\n",
    "G_slider.observe(update_coeffs_sliders, names='value')\n",
    "k_slider.observe(update_coeffs_sliders, names='value')\n",
    "\n",
    "# Initialize the display\n",
    "display(container)\n",
    "display_interactive_plot(G_slider, k_slider)"
   ]
  },
  {
   "cell_type": "code",
   "execution_count": 9,
   "id": "589c463b-e668-4c56-ad8e-f6640b1b1d17",
   "metadata": {
    "ExecuteTime": {
     "end_time": "2024-05-26T19:43:53.138221Z",
     "start_time": "2024-05-26T19:43:53.136565Z"
    }
   },
   "outputs": [],
   "source": []
  }
 ],
 "metadata": {
  "kernelspec": {
   "display_name": "Python 3 (ipykernel)",
   "language": "python",
   "name": "python3"
  },
  "language_info": {
   "codemirror_mode": {
    "name": "ipython",
    "version": 3
   },
   "file_extension": ".py",
   "mimetype": "text/x-python",
   "name": "python",
   "nbconvert_exporter": "python",
   "pygments_lexer": "ipython3",
   "version": "3.11.9"
  }
 },
 "nbformat": 4,
 "nbformat_minor": 5
}
