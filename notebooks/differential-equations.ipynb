{
 "cells": [
  {
   "cell_type": "markdown",
   "source": [
    "Interactive visualization for a pendulum differential equation as presented in a video on DEs by 3blue1brown (https://www.youtube.com/watch?v=p_di4Zn4wz4)"
   ],
   "metadata": {
    "collapsed": false
   },
   "id": "12dd33e557877676"
  },
  {
   "cell_type": "code",
   "execution_count": 1,
   "id": "8d435185e1ed4f3b",
   "metadata": {
    "collapsed": false,
    "ExecuteTime": {
     "end_time": "2024-06-02T17:28:25.544532Z",
     "start_time": "2024-06-02T17:28:25.459805Z"
    }
   },
   "outputs": [],
   "source": [
    "import numpy as np"
   ]
  },
  {
   "cell_type": "code",
   "outputs": [],
   "source": [
    "# Physical constants\n",
    "g = 9.8\n",
    "L = 2\n",
    "mu = 0.1\n",
    "\n",
    "# Definition of ODE\n",
    "def get_theta_double_dot(theta, theta_dot):\n",
    "    return -mu * theta_dot - (g / L) * np.sin(theta)\n",
    "\n",
    "\n",
    "# Solution to the differential equation\n",
    "def solve_theta(t_max, theta_0, theta_dot_0, delta_t=0.01):\n",
    "    theta = theta_0\n",
    "    theta_dot = theta_dot_0\n",
    "\n",
    "    time_values = np.arange(0, t_max, delta_t)\n",
    "    theta_values = []\n",
    "    theta_dot_values = []\n",
    "\n",
    "    for t in time_values:\n",
    "        theta_values.append(theta)\n",
    "        theta_dot_values.append(theta_dot)\n",
    "        theta_double_dot = get_theta_double_dot(theta, theta_dot)\n",
    "\n",
    "        theta += theta_dot * delta_t\n",
    "        theta_dot += theta_double_dot * delta_t\n",
    "\n",
    "    return time_values, theta_values, theta_dot_values"
   ],
   "metadata": {
    "collapsed": true,
    "ExecuteTime": {
     "end_time": "2024-06-02T17:33:00.701489Z",
     "start_time": "2024-06-02T17:33:00.697167Z"
    }
   },
   "id": "initial_id",
   "execution_count": 5
  },
  {
   "cell_type": "code",
   "outputs": [
    {
     "data": {
      "text/plain": "interactive(children=(FloatSlider(value=10.0, description='Time (s)', max=20.0, min=1.0, step=0.5), FloatSlide…",
      "application/vnd.jupyter.widget-view+json": {
       "version_major": 2,
       "version_minor": 0,
       "model_id": "11950e1813b3482a947296c0c41f2ad2"
      }
     },
     "metadata": {},
     "output_type": "display_data"
    },
    {
     "data": {
      "text/plain": "<function __main__.plot_theta(t_max, theta_0, theta_dot_0)>"
     },
     "execution_count": 6,
     "metadata": {},
     "output_type": "execute_result"
    }
   ],
   "source": [
    "import matplotlib.pyplot as plt\n",
    "from ipywidgets import interact, FloatSlider\n",
    "\n",
    "# Interactive plotting function\n",
    "def plot_theta(t_max, theta_0, theta_dot_0):\n",
    "    time_values, theta_values, theta_dot_values = solve_theta(t_max, theta_0, theta_dot_0)\n",
    "\n",
    "    # Time series plot of theta\n",
    "    plt.figure(figsize=(12, 5))\n",
    "    plt.subplot(1, 2, 1)\n",
    "    plt.plot(time_values, theta_values, label=r'$\\theta(t)$')\n",
    "    plt.title('Pendulum Motion Over Time')\n",
    "    plt.xlabel('Time (s)')\n",
    "    plt.ylabel('Theta (radians)')\n",
    "    plt.legend()\n",
    "    plt.grid(True)\n",
    "\n",
    "    # Phase space plot (theta vs theta_dot)\n",
    "    plt.subplot(1, 2, 2)\n",
    "    plt.plot(theta_values, theta_dot_values, label=r'$\\dot{\\theta}(t)$')\n",
    "    plt.title('Phase Space Plot')\n",
    "    plt.xlabel('Theta (radians)')\n",
    "    plt.ylabel('Angular Velocity (rad/s)')\n",
    "    plt.legend()\n",
    "    plt.grid(True)\n",
    "\n",
    "    plt.tight_layout()\n",
    "    plt.show()\n",
    "\n",
    "# Create interactive widget\n",
    "interact(\n",
    "    plot_theta,\n",
    "    t_max=FloatSlider(value=10, min=1, max=20, step=0.5, description='Time (s)'),\n",
    "    theta_0=FloatSlider(value=np.pi / 3, min=-np.pi, max=np.pi, step=0.01, description=r'$\\theta_0$ (rad)'),\n",
    "    theta_dot_0=FloatSlider(value=0, min=-10, max=10, step=0.1, description=r'$\\dot{\\theta}_0$ (rad/s)')\n",
    ")"
   ],
   "metadata": {
    "collapsed": false,
    "ExecuteTime": {
     "end_time": "2024-06-02T17:33:01.454904Z",
     "start_time": "2024-06-02T17:33:01.217699Z"
    }
   },
   "id": "347ee011cf1cfc7",
   "execution_count": 6
  },
  {
   "cell_type": "code",
   "outputs": [],
   "source": [],
   "metadata": {
    "collapsed": false
   },
   "id": "db473e17696a694c"
  }
 ],
 "metadata": {
  "kernelspec": {
   "display_name": "Python 3",
   "language": "python",
   "name": "python3"
  },
  "language_info": {
   "codemirror_mode": {
    "name": "ipython",
    "version": 2
   },
   "file_extension": ".py",
   "mimetype": "text/x-python",
   "name": "python",
   "nbconvert_exporter": "python",
   "pygments_lexer": "ipython2",
   "version": "2.7.6"
  }
 },
 "nbformat": 4,
 "nbformat_minor": 5
}
