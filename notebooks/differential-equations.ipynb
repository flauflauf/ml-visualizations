{
 "cells": [
  {
   "cell_type": "markdown",
   "id": "12dd33e557877676",
   "metadata": {
    "collapsed": false
   },
   "source": [
    "Interactive visualization for a pendulum differential equation as presented in a video on DEs by 3blue1brown (https://www.youtube.com/watch?v=p_di4Zn4wz4)"
   ]
  },
  {
   "cell_type": "code",
   "execution_count": 1,
   "id": "8d435185e1ed4f3b",
   "metadata": {
    "ExecuteTime": {
     "end_time": "2024-06-02T17:28:25.544532Z",
     "start_time": "2024-06-02T17:28:25.459805Z"
    },
    "collapsed": false
   },
   "outputs": [],
   "source": [
    "import numpy as np"
   ]
  },
  {
   "cell_type": "code",
   "execution_count": 4,
   "id": "initial_id",
   "metadata": {
    "ExecuteTime": {
     "end_time": "2024-06-02T17:33:00.701489Z",
     "start_time": "2024-06-02T17:33:00.697167Z"
    }
   },
   "outputs": [],
   "source": [
    "# Physical constants\n",
    "g = 9.8\n",
    "\n",
    "# Definition of ODE\n",
    "def get_theta_double_dot(theta, theta_dot, mu, L):\n",
    "    return -mu * theta_dot - (g / L) * np.sin(theta)\n",
    "\n",
    "# Solution to the differential equation\n",
    "def solve_theta(t_max, theta_0, theta_dot_0, mu, L, delta_t=0.01):\n",
    "    theta = theta_0\n",
    "    theta_dot = theta_dot_0\n",
    "\n",
    "    time_values = np.arange(0, t_max, delta_t)\n",
    "    theta_values = []\n",
    "    theta_dot_values = []\n",
    "\n",
    "    for t in time_values:\n",
    "        theta_values.append(theta)\n",
    "        theta_dot_values.append(theta_dot)\n",
    "        theta_double_dot = get_theta_double_dot(theta, theta_dot, mu, L)\n",
    "        theta += theta_dot * delta_t\n",
    "        theta_dot += theta_double_dot * delta_t\n",
    "\n",
    "    return time_values, theta_values, theta_dot_values"
   ]
  },
  {
   "cell_type": "code",
   "execution_count": 10,
   "id": "347ee011cf1cfc7",
   "metadata": {
    "ExecuteTime": {
     "end_time": "2024-06-02T20:40:03.584755Z",
     "start_time": "2024-06-02T20:40:03.497678Z"
    },
    "collapsed": false
   },
   "outputs": [
    {
     "data": {
      "application/vnd.jupyter.widget-view+json": {
       "model_id": "2ff6fa0b25ec4a73af368f379b60cb73",
       "version_major": 2,
       "version_minor": 0
      },
      "text/plain": [
       "interactive(children=(FloatSlider(value=10.0, description='Time (s)', max=20.0, min=1.0, step=0.5), FloatSlide…"
      ]
     },
     "metadata": {},
     "output_type": "display_data"
    },
    {
     "data": {
      "text/plain": [
       "<function __main__.plot_trajectories(t_max, mu, L, grid_size=5)>"
      ]
     },
     "execution_count": 10,
     "metadata": {},
     "output_type": "execute_result"
    }
   ],
   "source": [
    "import matplotlib.pyplot as plt\n",
    "from ipywidgets import interact, FloatSlider, IntSlider\n",
    "\n",
    "# Interactive plotting function\n",
    "def plot_trajectories(t_max, mu, L, grid_size=5):\n",
    "    initial_thetas = np.linspace(-np.pi, np.pi, grid_size)\n",
    "    initial_theta_dots = np.linspace(-10, 10, grid_size)\n",
    "\n",
    "    plt.figure(figsize=(14, 6))\n",
    "\n",
    "    # Phase space plot (theta vs theta_dot)\n",
    "    plt.subplot(1, 2, 1)\n",
    "    for theta_0 in initial_thetas:\n",
    "        for theta_dot_0 in initial_theta_dots:\n",
    "            _, theta_values, theta_dot_values = solve_theta(t_max, theta_0, theta_dot_0, mu, L)\n",
    "            plt.plot(theta_values, theta_dot_values, lw=0.5)\n",
    "    plt.title('Phase Space Plot')\n",
    "    plt.xlabel('Theta (radians)')\n",
    "    plt.ylabel('Angular Velocity (rad/s)')\n",
    "    plt.grid(True)\n",
    "\n",
    "    # Time series plot of theta\n",
    "    plt.subplot(1, 2, 2)\n",
    "    for theta_0 in initial_thetas:\n",
    "        for theta_dot_0 in initial_theta_dots:\n",
    "            time_values, theta_values, _ = solve_theta(t_max, theta_0, theta_dot_0, mu, L)\n",
    "            plt.plot(time_values, theta_values, lw=0.5)\n",
    "    plt.title('Pendulum Motion Over Time')\n",
    "    plt.xlabel('Time (s)')\n",
    "    plt.ylabel('Theta (radians)')\n",
    "    plt.grid(True)\n",
    "\n",
    "    plt.tight_layout()\n",
    "    plt.show()\n",
    "\n",
    "\n",
    "# Create interactive widget\n",
    "interact(\n",
    "    plot_trajectories,\n",
    "    t_max=FloatSlider(value=10, min=1, max=20, step=0.5, description='Time (s)'),\n",
    "    mu=FloatSlider(value=0.1, min=0, max=1, step=0.01, description='mu'),\n",
    "    L=FloatSlider(value=2, min=0.1, max=10, step=0.1, description='L'),\n",
    "    grid_size=IntSlider(value=5, min=1, max=10, step=1, description='Grid Size'),\n",
    ")"
   ]
  },
  {
   "cell_type": "code",
   "execution_count": null,
   "id": "db473e17696a694c",
   "metadata": {
    "collapsed": false
   },
   "outputs": [],
   "source": []
  }
 ],
 "metadata": {
  "kernelspec": {
   "display_name": "Python 3 (ipykernel)",
   "language": "python",
   "name": "python3"
  },
  "language_info": {
   "codemirror_mode": {
    "name": "ipython",
    "version": 3
   },
   "file_extension": ".py",
   "mimetype": "text/x-python",
   "name": "python",
   "nbconvert_exporter": "python",
   "pygments_lexer": "ipython3",
   "version": "3.11.9"
  }
 },
 "nbformat": 4,
 "nbformat_minor": 5
}
