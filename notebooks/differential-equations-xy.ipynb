{
 "cells": [
  {
   "cell_type": "code",
   "execution_count": 3,
   "id": "initial_id",
   "metadata": {
    "ExecuteTime": {
     "end_time": "2024-06-08T20:56:10.580468Z",
     "start_time": "2024-06-08T20:56:10.443868Z"
    }
   },
   "outputs": [
    {
     "data": {
      "application/vnd.jupyter.widget-view+json": {
       "model_id": "995bcf34e2e94a628e45a1ce9e4238bb",
       "version_major": 2,
       "version_minor": 0
      },
      "text/plain": [
       "interactive(children=(FloatSlider(value=1.0, description='a', max=2.0, min=-2.0), FloatSlider(value=1.0, descr…"
      ]
     },
     "metadata": {},
     "output_type": "display_data"
    },
    {
     "data": {
      "text/plain": [
       "<function __main__.plot_vector_field(a, b, c, d)>"
      ]
     },
     "execution_count": 3,
     "metadata": {},
     "output_type": "execute_result"
    }
   ],
   "source": [
    "import numpy as np\n",
    "import matplotlib.pyplot as plt\n",
    "from ipywidgets import interact, FloatSlider\n",
    "\n",
    "def get_dx_dt(x, y, a, b):\n",
    "    return a * x + b * y\n",
    "\n",
    "def get_dy_dt(x, y, c, d):\n",
    "    return c * x + d * y\n",
    "\n",
    "def plot_vector_field(a, b, c, d):\n",
    "    X, Y = np.meshgrid(np.linspace(-10, 10, 20), np.linspace(-10, 10, 20))\n",
    "    U = get_dx_dt(X, Y, a, b)\n",
    "    V = get_dy_dt(X, Y, c, d)\n",
    "\n",
    "    magnitude = np.sqrt(U**2 + V**2)\n",
    "\n",
    "    def safe_normalize(vectors):\n",
    "        return np.where(magnitude != 0, vectors / magnitude, 0)\n",
    "\n",
    "    U_norm = safe_normalize(U)\n",
    "    V_norm = safe_normalize(V)\n",
    "\n",
    "    plt.figure(figsize=(8, 8))\n",
    "    plt.quiver(X, Y, U_norm, V_norm, magnitude, cmap='rainbow')\n",
    "    plt.colorbar(label='Vector Magnitude')\n",
    "    plt.title('Normalized Vector Field with Magnitude Color Coding')\n",
    "    plt.xlabel('x')\n",
    "    plt.ylabel('y')\n",
    "    plt.grid(True)\n",
    "    plt.xlim(-10, 10)\n",
    "    plt.ylim(-10, 10)\n",
    "    plt.show()\n",
    "\n",
    "interact(\n",
    "    plot_vector_field,\n",
    "    a=FloatSlider(value=1, min=-2, max=2, step=0.1, description='a'),\n",
    "    b=FloatSlider(value=1, min=-2, max=2, step=0.1, description='b'),\n",
    "    c=FloatSlider(value=1, min=-2, max=2, step=0.1, description='c'),\n",
    "    d=FloatSlider(value=1, min=-2, max=2, step=0.1, description='d')\n",
    ")"
   ]
  }
 ],
 "metadata": {
  "kernelspec": {
   "display_name": "Python 3 (ipykernel)",
   "language": "python",
   "name": "python3"
  },
  "language_info": {
   "codemirror_mode": {
    "name": "ipython",
    "version": 3
   },
   "file_extension": ".py",
   "mimetype": "text/x-python",
   "name": "python",
   "nbconvert_exporter": "python",
   "pygments_lexer": "ipython3",
   "version": "3.11.9"
  }
 },
 "nbformat": 4,
 "nbformat_minor": 5
}
