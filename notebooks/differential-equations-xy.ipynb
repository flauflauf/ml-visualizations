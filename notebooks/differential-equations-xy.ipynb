{
 "cells": [
  {
   "cell_type": "code",
   "execution_count": 1,
   "id": "initial_id",
   "metadata": {
    "collapsed": true,
    "ExecuteTime": {
     "end_time": "2024-06-08T20:39:32.540693Z",
     "start_time": "2024-06-08T20:39:32.048708Z"
    }
   },
   "outputs": [
    {
     "data": {
      "text/plain": "interactive(children=(FloatSlider(value=1.0, description='a', max=2.0, min=-2.0), FloatSlider(value=1.0, descr…",
      "application/vnd.jupyter.widget-view+json": {
       "version_major": 2,
       "version_minor": 0,
       "model_id": "f378340f06da4cc98f981dcb81df3f09"
      }
     },
     "metadata": {},
     "output_type": "display_data"
    },
    {
     "data": {
      "text/plain": "<function __main__.plot_vector_field(a, b, c, d)>"
     },
     "execution_count": 1,
     "metadata": {},
     "output_type": "execute_result"
    }
   ],
   "source": [
    "import numpy as np\n",
    "import matplotlib.pyplot as plt\n",
    "from ipywidgets import interact, FloatSlider\n",
    "\n",
    "def get_dx_dt(x, y, a, b):\n",
    "    return a * x + b * y\n",
    "\n",
    "def get_dy_dt(x, y, c, d):\n",
    "    return c * x + d * y\n",
    "\n",
    "def plot_vector_field(a, b, c, d):\n",
    "    X, Y = np.meshgrid(np.linspace(-10, 10, 20), np.linspace(-10, 10, 20))\n",
    "    U = get_dx_dt(X, Y, a, b)\n",
    "    V = get_dy_dt(X, Y, c, d)\n",
    "\n",
    "    plt.figure(figsize=(8, 8))\n",
    "    plt.quiver(X, Y, U, V, color='r')\n",
    "    plt.title('Vector Field')\n",
    "    plt.xlabel('x')\n",
    "    plt.ylabel('y')\n",
    "    plt.grid(True)\n",
    "    plt.xlim(-10, 10)\n",
    "    plt.ylim(-10, 10)\n",
    "    plt.show()\n",
    "\n",
    "interact(\n",
    "    plot_vector_field,\n",
    "    a=FloatSlider(value=1, min=-2, max=2, step=0.1, description='a'),\n",
    "    b=FloatSlider(value=1, min=-2, max=2, step=0.1, description='b'),\n",
    "    c=FloatSlider(value=1, min=-2, max=2, step=0.1, description='c'),\n",
    "    d=FloatSlider(value=1, min=-2, max=2, step=0.1, description='d')\n",
    ")"
   ]
  }
 ],
 "metadata": {
  "kernelspec": {
   "display_name": "Python 3",
   "language": "python",
   "name": "python3"
  },
  "language_info": {
   "codemirror_mode": {
    "name": "ipython",
    "version": 2
   },
   "file_extension": ".py",
   "mimetype": "text/x-python",
   "name": "python",
   "nbconvert_exporter": "python",
   "pygments_lexer": "ipython2",
   "version": "2.7.6"
  }
 },
 "nbformat": 4,
 "nbformat_minor": 5
}
