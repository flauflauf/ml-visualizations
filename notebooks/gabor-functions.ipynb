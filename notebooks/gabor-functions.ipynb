{
 "cells": [
  {
   "cell_type": "markdown",
   "id": "7d7f5dd9aa8ea604",
   "metadata": {
    "collapsed": false
   },
   "source": [
    "# Gabor functions\n",
    "\n",
    "Gabor functions have been shown to be good models for the behavior of simple cells of V1, the first layer of visual perception in the brain. Also, many machine learning models including Deep Learning models like CNNs and Transformers learn gabor functions in their first layer when applied to natural images."
   ]
  },
  {
   "cell_type": "markdown",
   "id": "88ec468ecfbbe7f1",
   "metadata": {
    "collapsed": false
   },
   "source": [
    "One way of expression a Gabor filter is $g(x,y; \\theta, \\sigma, \\gamma, f, \\phi, x_0, y_0) = e^{-\\frac{x'^2 + \\gamma^2 y'^2}{2\\sigma^2}} \\cos(2\\pi f x' + \\phi)$,\n",
    "\n",
    "where\n",
    "\n",
    "- $x' = (x - x_0) \\cos(\\theta) + (y - y_0) \\sin(\\theta)$\n",
    "- $y' = -(x - x_0) \\sin(\\theta) + (y - y_0) \\cos(\\theta)$\n",
    "\n",
    "This notebook lets you interactively change the functions parameters to quickly get an intuitive feel for them."
   ]
  },
  {
   "cell_type": "code",
   "execution_count": 64,
   "id": "535ac674dd4bc55d",
   "metadata": {
    "collapsed": false,
    "ExecuteTime": {
     "end_time": "2024-05-10T06:50:45.703222Z",
     "start_time": "2024-05-10T06:50:45.700223Z"
    }
   },
   "outputs": [],
   "source": [
    "import numpy as np\n",
    "import matplotlib.pyplot as plt\n",
    "from ipywidgets import interactive, FloatSlider, Checkbox"
   ]
  },
  {
   "cell_type": "code",
   "execution_count": 65,
   "id": "4fc21824-baf7-4fd3-9c2c-85e8297bedc6",
   "metadata": {
    "ExecuteTime": {
     "end_time": "2024-05-10T06:50:45.999631Z",
     "start_time": "2024-05-10T06:50:45.994317Z"
    }
   },
   "outputs": [],
   "source": [
    "def gabor(x, y, x0, y0, theta, sigma, f, phi, gamma):\n",
    "    xp = (x - x0) * np.cos(theta) + (y - y0) * np.sin(theta)\n",
    "    yp = -(x - x0) * np.sin(theta) + (y - y0) * np.cos(theta)\n",
    "    envelope = np.exp(-(xp**2 + gamma**2 * yp**2) / (2 * sigma**2))\n",
    "    carrier = np.cos(2 * np.pi * f * xp + phi)\n",
    "    return envelope * carrier"
   ]
  },
  {
   "cell_type": "code",
   "execution_count": 66,
   "id": "1c9e3a1e5bba760",
   "metadata": {
    "collapsed": false,
    "ExecuteTime": {
     "end_time": "2024-05-10T06:50:46.386288Z",
     "start_time": "2024-05-10T06:50:46.383339Z"
    }
   },
   "outputs": [],
   "source": [
    "def draw_sigma(x0, y0, sigma, theta):\n",
    "    end_x = x0 + sigma * np.cos(theta)\n",
    "    end_y = y0 + sigma * np.sin(theta)\n",
    "    plt.arrow(x0, y0, end_x - x0, end_y - y0,\n",
    "              head_width=0.5, head_length=0.5, fc='white', ec='white', length_includes_head=True)\n",
    "    delta = 0.3\n",
    "    plt.text(end_x, end_y + delta, r'$\\sigma$', fontsize=12, color='white')"
   ]
  },
  {
   "cell_type": "code",
   "execution_count": 67,
   "id": "e335a26c-321a-47f7-8381-ed1e867aa37d",
   "metadata": {
    "ExecuteTime": {
     "end_time": "2024-05-10T06:50:47.302604Z",
     "start_time": "2024-05-10T06:50:47.297470Z"
    }
   },
   "outputs": [],
   "source": [
    "def plot_gabor(x0=0, y0=0, theta=0, sigma=1, f=0.5, phi=0, gamma=1, draw_parameters=False):\n",
    "    x = np.linspace(-10, 10, 500)\n",
    "    y = np.linspace(-10, 10, 500)\n",
    "    X, Y = np.meshgrid(x, y)\n",
    "    G = gabor(X, Y, x0, y0, theta, sigma, f, phi, gamma)\n",
    "\n",
    "    plt.figure(figsize=(6, 6))\n",
    "    plt.imshow(G, extent=(-10, 10, -10, 10), origin='lower')\n",
    "    plt.colorbar()\n",
    "\n",
    "    if draw_parameters:\n",
    "        draw_sigma(x0, y0, sigma, theta)\n",
    "\n",
    "    plt.show()"
   ]
  },
  {
   "cell_type": "code",
   "execution_count": 68,
   "id": "eb14103b-2118-46b0-9978-791a15acb3f9",
   "metadata": {
    "ExecuteTime": {
     "end_time": "2024-05-10T06:50:47.675391Z",
     "start_time": "2024-05-10T06:50:47.546890Z"
    }
   },
   "outputs": [
    {
     "data": {
      "text/plain": "interactive(children=(FloatSlider(value=0.0, description='x0', max=10.0, min=-10.0, step=0.5), FloatSlider(val…",
      "application/vnd.jupyter.widget-view+json": {
       "version_major": 2,
       "version_minor": 0,
       "model_id": "169f7a60b1074ced8c4cbb526b197fd6"
      }
     },
     "execution_count": 68,
     "metadata": {},
     "output_type": "execute_result"
    }
   ],
   "source": [
    "interactive_plot = interactive(plot_gabor,\n",
    "                               x0=FloatSlider(min=-10, max=10, step=0.5, value=0),\n",
    "                               y0=FloatSlider(min=-10, max=10, step=0.5, value=0),\n",
    "                               theta=FloatSlider(min=0, max=np.pi, step=np.pi/16, value=0),\n",
    "                               sigma=FloatSlider(min=0.1, max=10, step=0.1, value=3),\n",
    "                               f=FloatSlider(min=0.1, max=1, step=0.05, value=0.5),\n",
    "                               phi=FloatSlider(min=0, max=2*np.pi, step=np.pi/16, value=0),\n",
    "                               gamma=FloatSlider(min=0.1, max=10, step=0.1, value=1),\n",
    "                               draw_parameters=Checkbox(value=False, description=\"Draw sigma\"))\n",
    "interactive_plot"
   ]
  },
  {
   "cell_type": "markdown",
   "id": "278e4965ccf3bb69",
   "metadata": {
    "collapsed": false
   },
   "source": [
    "# Using precision\n",
    "\n",
    "We can also reformulate the Gabor function to use $\\beta$ (precision) with $\\beta=1/\\sigma^2$ instead. Also, we can control the precision separately for $x$ and $y$ with $\\beta_x$ and $\\beta_y$."
   ]
  },
  {
   "cell_type": "code",
   "execution_count": 69,
   "id": "c13c29c8ca74af6a",
   "metadata": {
    "collapsed": false,
    "ExecuteTime": {
     "end_time": "2024-05-10T06:50:50.791943Z",
     "start_time": "2024-05-10T06:50:50.787184Z"
    }
   },
   "outputs": [],
   "source": [
    "def gabor(x, y, x0, y0, theta, beta_x, beta_y, alpha, f, phi):\n",
    "    xp = (x - x0) * np.cos(theta) + (y - y0) * np.sin(theta)\n",
    "    yp = -(x - x0) * np.sin(theta) + (y - y0) * np.cos(theta)\n",
    "    envelope = alpha * np.exp(-0.5 * (beta_x * xp**2 + beta_y * yp**2))\n",
    "    carrier = np.cos(2 * np.pi * f * xp + phi)\n",
    "    return envelope * carrier"
   ]
  },
  {
   "cell_type": "code",
   "execution_count": 70,
   "id": "d5d80994215f7de5",
   "metadata": {
    "collapsed": false,
    "ExecuteTime": {
     "end_time": "2024-05-10T06:50:51.100690Z",
     "start_time": "2024-05-10T06:50:51.095037Z"
    }
   },
   "outputs": [],
   "source": [
    "def draw_sigma(x0, y0, beta_x, beta_y, theta):\n",
    "    sigma_x = 1 / np.sqrt(beta_x)\n",
    "    sigma_y = 1 / np.sqrt(beta_y)\n",
    "\n",
    "    # Calculate end points along rotated axes\n",
    "    end_x_x = x0 + sigma_x * np.cos(theta)\n",
    "    end_y_x = y0 + sigma_x * np.sin(theta)\n",
    "    end_x_y = x0 - sigma_y * np.sin(theta)\n",
    "    end_y_y = y0 + sigma_y * np.cos(theta)\n",
    "\n",
    "    draw_labelled_arrow(x0, y0, end_x_x, end_y_x, r'$\\sigma_x$')\n",
    "    draw_labelled_arrow(x0, y0, end_x_y, end_y_y, r'$\\sigma_y$')\n",
    "\n",
    "def draw_labelled_arrow(x0, y0, x, y, label):\n",
    "    plt.arrow(x0, y0, x - x0, y - y0,\n",
    "              head_width=0.2, head_length=0.3, fc='white', ec='white', length_includes_head=True)\n",
    "    delta = 0.3\n",
    "    plt.text(x, y + delta, label, fontsize=12, color='white', horizontalalignment='center')\n",
    "\n",
    "def plot_gabor(x0=0, y0=0, theta=0, beta_x=1, beta_y=1, alpha=1, f=0.5, phi=0, draw_parameters=False):\n",
    "    x = np.linspace(-10, 10, 500)\n",
    "    y = np.linspace(-10, 10, 500)\n",
    "    X, Y = np.meshgrid(x, y)\n",
    "    G = gabor(X, Y, x0, y0, theta, beta_x, beta_y, alpha, f, phi)\n",
    "\n",
    "    plt.figure(figsize=(6, 6))\n",
    "    plt.imshow(G, extent=(-10, 10, -10, 10), origin='lower')\n",
    "    plt.colorbar()\n",
    "\n",
    "    if draw_parameters:\n",
    "        draw_sigma(x0, y0, beta_x, beta_y, theta)\n",
    "\n",
    "    plt.show()"
   ]
  },
  {
   "cell_type": "code",
   "execution_count": 71,
   "id": "2cdc1ac51d1a36a1",
   "metadata": {
    "collapsed": false,
    "ExecuteTime": {
     "end_time": "2024-05-10T06:50:52.074778Z",
     "start_time": "2024-05-10T06:50:51.933338Z"
    }
   },
   "outputs": [
    {
     "data": {
      "text/plain": "interactive(children=(FloatSlider(value=0.0, description='x0', max=10.0, min=-10.0, step=0.5), FloatSlider(val…",
      "application/vnd.jupyter.widget-view+json": {
       "version_major": 2,
       "version_minor": 0,
       "model_id": "dbee0efee52c48a4a8de6fc77e9c169f"
      }
     },
     "execution_count": 71,
     "metadata": {},
     "output_type": "execute_result"
    }
   ],
   "source": [
    "interactive_plot = interactive(plot_gabor,\n",
    "                               x0=FloatSlider(min=-10, max=10, step=0.5, value=0),\n",
    "                               y0=FloatSlider(min=-10, max=10, step=0.5, value=0),\n",
    "                               theta=FloatSlider(min=0, max=np.pi, step=np.pi/16, value=0),\n",
    "                               beta_x=FloatSlider(min=0.01, max=10, step=0.05, value=0.1),\n",
    "                               beta_y=FloatSlider(min=0.01, max=10, step=0.05, value=0.1),\n",
    "                               alpha=FloatSlider(min=0.1, max=10, step=0.1, value=1),\n",
    "                               f=FloatSlider(min=0.1, max=1, step=0.05, value=0.5),\n",
    "                               phi=FloatSlider(min=0, max=2*np.pi, step=np.pi/16, value=0),\n",
    "                               draw_parameters=Checkbox(value=False, description=\"Draw sigma\"))\n",
    "interactive_plot"
   ]
  },
  {
   "cell_type": "code",
   "execution_count": null,
   "id": "d9ba1c38336605a2",
   "metadata": {
    "collapsed": false
   },
   "outputs": [],
   "source": []
  }
 ],
 "metadata": {
  "kernelspec": {
   "display_name": "Python 3 (ipykernel)",
   "language": "python",
   "name": "python3"
  },
  "language_info": {
   "codemirror_mode": {
    "name": "ipython",
    "version": 3
   },
   "file_extension": ".py",
   "mimetype": "text/x-python",
   "name": "python",
   "nbconvert_exporter": "python",
   "pygments_lexer": "ipython3",
   "version": "3.11.5"
  }
 },
 "nbformat": 4,
 "nbformat_minor": 5
}
